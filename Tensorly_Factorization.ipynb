{
 "cells": [
  {
   "cell_type": "markdown",
   "metadata": {},
   "source": [
    "#### Open Files From Julia"
   ]
  },
  {
   "cell_type": "code",
   "execution_count": null,
   "metadata": {},
   "outputs": [],
   "source": [
    "import numpy as np\n",
    "import pandas as pd\n",
    "import h5py\n",
    "from tensorly.decomposition import parafac"
   ]
  },
  {
   "cell_type": "code",
   "execution_count": null,
   "metadata": {},
   "outputs": [],
   "source": [
    "f = h5py.File(\"serology_tensor.jld\", \"r\")"
   ]
  },
  {
   "cell_type": "code",
   "execution_count": null,
   "metadata": {},
   "outputs": [],
   "source": [
    "def get_data():\n",
    "    \"Get Data Set into Numpy Array\"\n",
    "    ## Deal with odd HDF5 Stuff\n",
    "    f = h5py.File(\"serology_tensor.jld\", \"r\")\n",
    "    tens = f['tensor'][:]\n",
    "    \n",
    "    ## Data Carriers\n",
    "    dim1, dim2, dim3 = np.shape(tens)\n",
    "    output = np.zeros(np.shape(tens))\n",
    "    \n",
    "    ## Iteration\n",
    "    for i in np.arange(dim1):\n",
    "        for j in np.arange(dim2):\n",
    "            for k in np.arange(dim3):\n",
    "                test = f[tens[i, j, k]][()]\n",
    "                if isinstance(test, np.void):\n",
    "                    output[i, j, k] = np.nan\n",
    "                else: \n",
    "                    output[i, j, k] = test\n",
    "    return output"
   ]
  },
  {
   "cell_type": "code",
   "execution_count": null,
   "metadata": {},
   "outputs": [],
   "source": [
    "cube = get_data()"
   ]
  },
  {
   "cell_type": "code",
   "execution_count": null,
   "metadata": {},
   "outputs": [],
   "source": [
    "print(np.shape(cube))"
   ]
  },
  {
   "cell_type": "markdown",
   "metadata": {},
   "source": [
    "#### Tensor Factorization"
   ]
  },
  {
   "cell_type": "code",
   "execution_count": null,
   "metadata": {},
   "outputs": [],
   "source": [
    "mk = ~np.isnan(cube)\n",
    "cube[mk] = 0.0"
   ]
  },
  {
   "cell_type": "code",
   "execution_count": null,
   "metadata": {},
   "outputs": [],
   "source": [
    "weights, factors = parafac(cube, 3, mask=mk)"
   ]
  }
 ],
 "metadata": {
  "kernelspec": {
   "display_name": "Python 3",
   "language": "python",
   "name": "python3"
  },
  "language_info": {
   "codemirror_mode": {
    "name": "ipython",
    "version": 3
   },
   "file_extension": ".py",
   "mimetype": "text/x-python",
   "name": "python",
   "nbconvert_exporter": "python",
   "pygments_lexer": "ipython3",
   "version": "3.8.2"
  }
 },
 "nbformat": 4,
 "nbformat_minor": 4
}
