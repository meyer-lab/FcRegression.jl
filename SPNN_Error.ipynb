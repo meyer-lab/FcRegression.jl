{
 "cells": [
  {
   "cell_type": "code",
   "execution_count": 1,
   "metadata": {},
   "outputs": [
    {
     "name": "stderr",
     "output_type": "stream",
     "text": [
      "┌ Info: Precompiling FcgR [12d3ff75-5241-45b7-b303-d29cf6c8f34b]\n",
      "└ @ Base loading.jl:1260\n",
      "WARNING: Method definition dot(Any, Any, Any) in module LinearAlgebra at /buildworker/worker/package_linux64/build/usr/share/julia/stdlib/v1.4/LinearAlgebra/src/generic.jl:924 overwritten in module Optim at /home/robbyt/.julia/packages/Optim/Agd3B/src/multivariate/precon.jl:23.\n",
      "  ** incremental compilation may be fatally broken for this module **\n",
      "\n"
     ]
    }
   ],
   "source": [
    "using FcgR"
   ]
  },
  {
   "cell_type": "code",
   "execution_count": 2,
   "metadata": {},
   "outputs": [
    {
     "name": "stderr",
     "output_type": "stream",
     "text": [
      "┌ Warning: `melt(df::AbstractDataFrame; variable_name::Symbol = :variable, value_name::Symbol = :value, view::Bool = false)` is deprecated, use `stack(df; variable_name = variable_name, value_name = value_name, view = view)` instead.\n",
      "│   caller = ip:0x0\n",
      "└ @ Core :-1\n"
     ]
    },
    {
     "data": {
      "text/plain": [
       "181×22×41 Array{Union{Nothing, Float64},3}:\n",
       "[:, :, 1] =\n",
       "  7.8   23.0  nothing  nothing   13.5  …  nothing  nothing  nothing  nothing\n",
       " 26.8  148.0  nothing  nothing   20.5     nothing  nothing  nothing  nothing\n",
       " -0.8  840.0  nothing  nothing   58.5     nothing  nothing  nothing  nothing\n",
       " 19.8  772.0  nothing  nothing  112.5     nothing  nothing  nothing  nothing\n",
       " 35.3  183.0  nothing  nothing   64.5     nothing  nothing  nothing  nothing\n",
       " 25.8   71.0  nothing  nothing   13.0  …  nothing  nothing  nothing  nothing\n",
       " 12.8  135.0  nothing  nothing   11.5     nothing  nothing  nothing  nothing\n",
       " -3.3  946.0  nothing  nothing  -10.5     nothing  nothing  nothing  nothing\n",
       " -4.3   29.0  nothing  nothing   34.5     nothing  nothing  nothing  nothing\n",
       "  4.8  178.5  nothing  nothing   44.0     nothing  nothing  nothing  nothing\n",
       " 26.8  740.0  nothing  nothing  144.0  …  nothing  nothing  nothing  nothing\n",
       " 21.3  120.0  nothing  nothing   38.5     nothing  nothing  nothing  nothing\n",
       "  2.8  103.0  nothing  nothing   19.5     nothing  nothing  nothing  nothing\n",
       "  ⋮                                    ⋱                    ⋮        \n",
       " 26.8  613.5  nothing  nothing  169.5     nothing  nothing  nothing  nothing\n",
       "  6.8  531.0  nothing  nothing   64.5  …  nothing  nothing  nothing  nothing\n",
       " -0.3  751.0  nothing  nothing  111.5     nothing  nothing  nothing  nothing\n",
       "  9.8  309.5  nothing  nothing   35.0     nothing  nothing  nothing  nothing\n",
       " 26.8  241.5  nothing  nothing    6.5     nothing  nothing  nothing  nothing\n",
       "  9.8  385.0  nothing  nothing   25.5     nothing  nothing  nothing  nothing\n",
       "  9.3  635.0  nothing  nothing  173.5  …  nothing  nothing  nothing  nothing\n",
       " 13.8  625.5  nothing  nothing  136.5     nothing  nothing  nothing  nothing\n",
       " 26.8  591.0  nothing  nothing  137.5     nothing  nothing  nothing  nothing\n",
       " -6.3  242.0  nothing  nothing   86.0     nothing  nothing  nothing  nothing\n",
       " -0.8  286.0  nothing  nothing    5.0     nothing  nothing  nothing  nothing\n",
       "  5.8  408.0  nothing  nothing    9.5  …  nothing  nothing  nothing  nothing\n",
       "\n",
       "[:, :, 2] =\n",
       "  -0.8    41.0  nothing  nothing  …  nothing  nothing  nothing  nothing\n",
       "  99.8    41.5  nothing  nothing     nothing  nothing  nothing  nothing\n",
       "   7.3   167.0  nothing  nothing     nothing  nothing  nothing  nothing\n",
       "  14.3    16.0  nothing  nothing     nothing  nothing  nothing  nothing\n",
       "   5.3   116.0  nothing  nothing     nothing  nothing  nothing  nothing\n",
       "   5.3    58.0  nothing  nothing  …  nothing  nothing  nothing  nothing\n",
       "  13.3   240.5  nothing  nothing     nothing  nothing  nothing  nothing\n",
       "  39.8   135.0  nothing  nothing     nothing  nothing  nothing  nothing\n",
       "  27.3   116.5  nothing  nothing     nothing  nothing  nothing  nothing\n",
       "  25.3   253.0  nothing  nothing     nothing  nothing  nothing  nothing\n",
       "  45.3   728.0  nothing  nothing  …  nothing  nothing  nothing  nothing\n",
       "  18.3   392.0  nothing  nothing     nothing  nothing  nothing  nothing\n",
       "  -6.8    66.0  nothing  nothing     nothing  nothing  nothing  nothing\n",
       "   ⋮                              ⋱                    ⋮        \n",
       " 148.3  9155.5  nothing  nothing     nothing  nothing  nothing  nothing\n",
       "  63.8  5042.0  nothing  nothing  …  nothing  nothing  nothing  nothing\n",
       "  82.3  3813.5  nothing  nothing     nothing  nothing  nothing  nothing\n",
       "  47.3   960.5  nothing  nothing     nothing  nothing  nothing  nothing\n",
       "  30.3   528.0  nothing  nothing     nothing  nothing  nothing  nothing\n",
       " 104.3  7150.5  nothing  nothing     nothing  nothing  nothing  nothing\n",
       " 104.3  4347.0  nothing  nothing  …  nothing  nothing  nothing  nothing\n",
       "  90.3  2446.0  nothing  nothing     nothing  nothing  nothing  nothing\n",
       " 105.3  9164.0  nothing  nothing     nothing  nothing  nothing  nothing\n",
       "  38.3   396.0  nothing  nothing     nothing  nothing  nothing  nothing\n",
       "  55.8  1865.5  nothing  nothing     nothing  nothing  nothing  nothing\n",
       "  32.3   120.0  nothing  nothing  …  nothing  nothing  nothing  nothing\n",
       "\n",
       "[:, :, 3] =\n",
       "   14.3     -18.8   -296.5   -290.9  …  -1383.5  10.5  -13.5  nothing\n",
       "  637.8     168.3   -133.5   -209.4      -815.0  28.0  -10.5  nothing\n",
       "   28.8     161.7   -123.0   -211.4     -2903.0  24.0   -5.5  nothing\n",
       "   39.8     159.3    -28.5   -209.9     -2048.5  20.0  -11.5  nothing\n",
       "   11.8      77.8   -204.5   -220.4     -1907.5  14.0   -2.5  nothing\n",
       "  161.8   31944.3     35.5    -12.4  …  -2205.5  20.5   17.0  nothing\n",
       "   64.8   10020.3    170.5   -121.4      2076.5  26.0  -16.5  nothing\n",
       "   78.8    7354.3    167.5   -110.4      1252.5  12.0  -25.5  nothing\n",
       "   62.8    6407.8   -161.0    -14.4     -2403.5   5.0  -12.5  nothing\n",
       "   43.3    5421.8     10.0      4.6      -562.5  13.5  -15.5  nothing\n",
       "  317.3   40550.3   2272.0   2875.1  …     48.0  18.0    1.5  nothing\n",
       "  483.8   98903.3  12805.5   1405.1      -842.0  14.0  -12.5  nothing\n",
       "    4.8      12.8    227.5   -125.4     -1492.5  19.0   -5.5  nothing\n",
       "    ⋮                                ⋱                   ⋮    \n",
       " 1404.8  108475.0  31525.5  10618.1      9019.5  22.0    6.5  nothing\n",
       "  538.8  111098.0  51831.5  19320.6  …   4805.0  46.0    1.5  nothing\n",
       "  679.3  102286.0  26306.5   8186.6     18502.5  53.0    7.5  nothing\n",
       "  554.8   84429.8   5778.5   1866.1      1235.0  22.0   10.5  nothing\n",
       "  840.8   78470.3  29406.5   7765.1      6999.0  35.0    6.5  nothing\n",
       " 1073.8  107578.0  36676.5  15427.6      2193.5  39.0   -1.0  nothing\n",
       " 1050.8  115838.0  31947.0  13064.6  …   5986.5  39.0  -14.5  nothing\n",
       " 1168.8  111144.0   9741.5   5315.6      2667.5  16.0   -4.5  nothing\n",
       " 1264.3  133476.0  21247.5  14037.6      4859.0  31.0   -2.5  nothing\n",
       " 1014.8  112629.0  46088.5  35045.6      1284.5  19.5   -7.5  nothing\n",
       "  437.8   87053.3    804.5   -124.4      -784.5  20.0    3.5  nothing\n",
       "   61.8    8132.3    226.5     47.6  …  -2108.0   9.0  -15.5  nothing\n",
       "\n",
       "...\n",
       "\n",
       "[:, :, 39] =\n",
       "   13.3    -596.5    -350.0    -508.4  …  nothing  nothing    -37.5  nothing\n",
       "  911.8    -439.5     112.5    -481.9     nothing  nothing    -51.5  nothing\n",
       "   35.8     113.0       1.0    -324.9     nothing  nothing     10.5  nothing\n",
       "   31.8    -569.0     229.5    -675.4     nothing  nothing     21.0  nothing\n",
       "   20.8    -415.0    -376.5    -569.9     nothing  nothing    -23.0  nothing\n",
       "  875.8  105554.0  123568.0  103653.0  …  nothing  nothing     69.0  nothing\n",
       " 1689.8  110213.0  120912.0  122933.0     nothing  nothing    -39.5  nothing\n",
       "  143.8   14190.5   30482.0   13934.1     nothing  nothing    -15.5  nothing\n",
       "  142.8   44117.5   10788.0   29460.6     nothing  nothing    -36.5  nothing\n",
       "   63.3   10627.0   38743.0   27204.1     nothing  nothing     -2.5  nothing\n",
       "  153.8   44416.5  109028.0  111220.0  …  nothing  nothing    -20.5  nothing\n",
       "   61.3   21533.0   86021.0   53959.6     nothing  nothing    -11.5  nothing\n",
       "  230.3   43702.5   32066.0   13010.1     nothing  nothing     -3.5  nothing\n",
       "    ⋮                                  ⋱                        ⋮    \n",
       " 1442.8  106360.0   74911.0   53082.1     nothing  nothing   2280.0  nothing\n",
       " 1023.8  101193.0  154175.0  120267.0  …  nothing  nothing  37152.5  nothing\n",
       " 1856.8  102402.0  111831.0   80863.1     nothing  nothing  17387.5  nothing\n",
       " 1301.3  125170.0   99069.0   71724.1     nothing  nothing  18097.5  nothing\n",
       " 1494.8   69957.5  125232.0   97500.1     nothing  nothing   8453.5  nothing\n",
       "  154.8   50076.5   44691.5   16026.1     nothing  nothing     43.5  nothing\n",
       "  349.3   43622.5   43005.0   22133.1  …  nothing  nothing    -14.5  nothing\n",
       " 1187.8   94635.5   57476.5   31363.1     nothing  nothing  27700.5  nothing\n",
       "  283.8   59292.5   18255.0   16231.1     nothing  nothing     -8.5  nothing\n",
       "   51.3    1910.5    3671.0    1797.1     nothing  nothing      2.5  nothing\n",
       "  129.3   53609.0   10408.0    4501.1     nothing  nothing     20.5  nothing\n",
       "  678.8   75031.0   88027.0   74778.1  …  nothing  nothing    -21.5  nothing\n",
       "\n",
       "[:, :, 40] =\n",
       " nothing  nothing    -389.3   -1742.0  …  nothing  nothing  nothing  nothing\n",
       " nothing  nothing    -162.8   -1029.5     nothing  nothing  nothing  nothing\n",
       " nothing  nothing    3628.8     434.0     nothing  nothing  nothing  nothing\n",
       " nothing  nothing    1029.8   -1720.0     nothing  nothing  nothing  nothing\n",
       " nothing  nothing     183.8   -1517.0     nothing  nothing  nothing  nothing\n",
       " nothing  nothing  118057.0  119004.0  …  nothing  nothing  nothing  nothing\n",
       " nothing  nothing  115334.0  120348.0     nothing  nothing  nothing  nothing\n",
       " nothing  nothing    3136.8      81.5     nothing  nothing  nothing  nothing\n",
       " nothing  nothing   92099.3  116451.0     nothing  nothing  nothing  nothing\n",
       " nothing  nothing   33072.8   23513.0     nothing  nothing  nothing  nothing\n",
       " nothing  nothing  136027.0  137589.0  …  nothing  nothing  nothing  nothing\n",
       " nothing  nothing   96793.8   80614.0     nothing  nothing  nothing  nothing\n",
       " nothing  nothing   24412.8   13395.0     nothing  nothing  nothing  nothing\n",
       " ⋮                                     ⋱                    ⋮        \n",
       " nothing  nothing   87404.8   63419.0     nothing  nothing  nothing  nothing\n",
       " nothing  nothing  164959.0  143184.0  …  nothing  nothing  nothing  nothing\n",
       " nothing  nothing  139093.0  118069.0     nothing  nothing  nothing  nothing\n",
       " nothing  nothing  118308.0   89251.5     nothing  nothing  nothing  nothing\n",
       " nothing  nothing  152972.0  108794.0     nothing  nothing  nothing  nothing\n",
       " nothing  nothing  116553.0   74529.0     nothing  nothing  nothing  nothing\n",
       " nothing  nothing  129315.0  104008.0  …  nothing  nothing  nothing  nothing\n",
       " nothing  nothing   91016.8   77993.0     nothing  nothing  nothing  nothing\n",
       " nothing  nothing   97819.8   73743.0     nothing  nothing  nothing  nothing\n",
       " nothing  nothing  120302.0  113329.0     nothing  nothing  nothing  nothing\n",
       " nothing  nothing   99733.8   92430.5     nothing  nothing  nothing  nothing\n",
       " nothing  nothing  110765.0   99917.0  …  nothing  nothing  nothing  nothing\n",
       "\n",
       "[:, :, 41] =\n",
       " nothing  nothing    -166.8   -2253.6  …  nothing  nothing    -375.0  nothing\n",
       " nothing  nothing     197.8   -2133.6     nothing  nothing    -156.0  nothing\n",
       " nothing  nothing    2415.3   -1039.1     nothing  nothing    -229.5  nothing\n",
       " nothing  nothing    1071.3   -2301.6     nothing  nothing     182.5  nothing\n",
       " nothing  nothing     555.3   -2084.6     nothing  nothing     -58.0  nothing\n",
       " nothing  nothing   96835.3   85153.4  …  nothing  nothing    4399.5  nothing\n",
       " nothing  nothing   86203.8   95534.4     nothing  nothing    -264.0  nothing\n",
       " nothing  nothing    3013.3    -343.6     nothing  nothing    -238.0  nothing\n",
       " nothing  nothing   63049.3   73780.9     nothing  nothing     -26.5  nothing\n",
       " nothing  nothing   24648.3   17729.4     nothing  nothing    -222.0  nothing\n",
       " nothing  nothing  121710.0  121856.0  …  nothing  nothing   13294.5  nothing\n",
       " nothing  nothing   85144.3   47093.9     nothing  nothing      20.5  nothing\n",
       " nothing  nothing   29525.3    9314.4     nothing  nothing     102.0  nothing\n",
       " ⋮                                     ⋱                         ⋮    \n",
       " nothing  nothing   72871.3   36439.4     nothing  nothing     802.0  nothing\n",
       " nothing  nothing  138757.0  118050.0  …  nothing  nothing   30622.0  nothing\n",
       " nothing  nothing  115341.0   97744.9     nothing  nothing   25640.0  nothing\n",
       " nothing  nothing  106418.0   68322.4     nothing  nothing  123998.0  nothing\n",
       " nothing  nothing  134951.0  108752.0     nothing  nothing   23545.0  nothing\n",
       " nothing  nothing  114896.0   71034.4     nothing  nothing  148069.0  nothing\n",
       " nothing  nothing   94978.3   67593.4  …  nothing  nothing     956.0  nothing\n",
       " nothing  nothing   85383.3   48609.4     nothing  nothing   17189.0  nothing\n",
       " nothing  nothing   75845.8   49429.9     nothing  nothing   31576.0  nothing\n",
       " nothing  nothing  102715.0   91351.9     nothing  nothing    1569.0  nothing\n",
       " nothing  nothing   49876.3   58123.9     nothing  nothing    3912.5  nothing\n",
       " nothing  nothing   93656.3   89198.4  …  nothing  nothing    -410.0  nothing"
      ]
     },
     "execution_count": 2,
     "metadata": {},
     "output_type": "execute_result"
    }
   ],
   "source": [
    "tens = FcgR.createCube()"
   ]
  },
  {
   "cell_type": "code",
   "execution_count": 4,
   "metadata": {},
   "outputs": [
    {
     "ename": "TypeError",
     "evalue": "TypeError: non-boolean (Missing) used in boolean context",
     "output_type": "error",
     "traceback": [
      "TypeError: non-boolean (Missing) used in boolean context",
      "",
      "Stacktrace:",
      " [1] spnntucker(::Array{Union{Missing, Float64},3}, ::Tuple{Int64,Int64,Int64}; core_nonneg::Bool, tol::Float64, hosvd_init::Bool, max_iter::Int64, max_time::Float64, lambdas::Array{Float64,1}, Lmin::Float64, rw::Float64, bounds::Array{Float64,1}, ini_decomp::Nothing, verbose::Bool) at /home/robbyt/.julia/packages/TensorDecompositions/2zUjf/src/spnntucker.jl:241",
      " [2] spnntucker(::Array{Union{Missing, Float64},3}, ::Tuple{Int64,Int64,Int64}) at /home/robbyt/.julia/packages/TensorDecompositions/2zUjf/src/spnntucker.jl:216",
      " [3] tucker_decomp_sparse(::Array{Union{Missing, Float64},3}, ::Tuple{Int64,Int64,Int64}) at /home/robbyt/FcgR.jl/src/systemsSerology.jl:135",
      " [4] top-level scope at In[4]:1"
     ]
    }
   ],
   "source": [
    "FcgR.tucker_decomp_sparse(tens, (2, 2, 2))"
   ]
  },
  {
   "cell_type": "code",
   "execution_count": 3,
   "metadata": {},
   "outputs": [
    {
     "ename": "MethodError",
     "evalue": "MethodError: no method matching isnan(::Nothing)\nClosest candidates are:\n  isnan(!Matched::BigFloat) at mpfr.jl:893\n  isnan(!Matched::Missing) at missing.jl:100\n  isnan(!Matched::Float16) at float.jl:537\n  ...",
     "output_type": "error",
     "traceback": [
      "MethodError: no method matching isnan(::Nothing)\nClosest candidates are:\n  isnan(!Matched::BigFloat) at mpfr.jl:893\n  isnan(!Matched::Missing) at missing.jl:100\n  isnan(!Matched::Float16) at float.jl:537\n  ...",
      "",
      "Stacktrace:",
      " [1] _broadcast_getindex_evalf at ./broadcast.jl:631 [inlined]",
      " [2] _broadcast_getindex at ./broadcast.jl:604 [inlined]",
      " [3] getindex at ./broadcast.jl:564 [inlined]",
      " [4] macro expansion at ./broadcast.jl:928 [inlined]",
      " [5] macro expansion at ./simdloop.jl:77 [inlined]",
      " [6] copyto! at ./broadcast.jl:927 [inlined]",
      " [7] copyto! at ./broadcast.jl:864 [inlined]",
      " [8] copy at ./broadcast.jl:840 [inlined]",
      " [9] materialize at ./broadcast.jl:820 [inlined]",
      " [10] spnntucker(::Array{Union{Nothing, Float64},3}, ::Tuple{Int64,Int64,Int64}; core_nonneg::Bool, tol::Float64, hosvd_init::Bool, max_iter::Int64, max_time::Float64, lambdas::Array{Float64,1}, Lmin::Float64, rw::Float64, bounds::Array{Float64,1}, ini_decomp::Nothing, verbose::Bool) at /home/robbyt/.julia/packages/TensorDecompositions/2zUjf/src/spnntucker.jl:240",
      " [11] spnntucker(::Array{Union{Nothing, Float64},3}, ::Tuple{Int64,Int64,Int64}) at /home/robbyt/.julia/packages/TensorDecompositions/2zUjf/src/spnntucker.jl:216",
      " [12] tucker_decomp_sparse(::Array{Union{Nothing, Float64},3}, ::Tuple{Int64,Int64,Int64}) at /home/robbyt/FcgR.jl/src/systemsSerology.jl:135",
      " [13] top-level scope at In[3]:1"
     ]
    }
   ],
   "source": [
    "FcgR.tucker_decomp_sparse(tens, (2, 2, 2))"
   ]
  },
  {
   "cell_type": "code",
   "execution_count": null,
   "metadata": {},
   "outputs": [],
   "source": []
  },
  {
   "cell_type": "code",
   "execution_count": null,
   "metadata": {},
   "outputs": [],
   "source": []
  },
  {
   "cell_type": "code",
   "execution_count": null,
   "metadata": {},
   "outputs": [],
   "source": []
  },
  {
   "cell_type": "code",
   "execution_count": null,
   "metadata": {},
   "outputs": [],
   "source": []
  },
  {
   "cell_type": "code",
   "execution_count": null,
   "metadata": {},
   "outputs": [],
   "source": []
  }
 ],
 "metadata": {
  "kernelspec": {
   "display_name": "Julia 1.4.0",
   "language": "julia",
   "name": "julia-1.4"
  },
  "language_info": {
   "file_extension": ".jl",
   "mimetype": "application/julia",
   "name": "julia",
   "version": "1.4.0"
  }
 },
 "nbformat": 4,
 "nbformat_minor": 4
}
